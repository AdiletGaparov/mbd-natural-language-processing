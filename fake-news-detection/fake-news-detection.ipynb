{
 "cells": [
  {
   "cell_type": "markdown",
   "metadata": {},
   "source": [
    "# Fake News detection - Adilet Gaparov\n",
    "\n",
    "**Content**:\n",
    "1. [Importing libraries](#import)\n",
    "2. [Loading raw data](#load)\n",
    "3. [Cleaning the data](#clean)\n",
    "4. [Preprocessing](#preprocessing)\n",
    "5. [Modeling](#modeling)\n",
    "6. [Experimentation: word embeddings + Neural Network](#word2vec)\n"
   ]
  },
  {
   "cell_type": "markdown",
   "metadata": {},
   "source": [
    "## 1. Importing libraries <a id=import>"
   ]
  },
  {
   "cell_type": "code",
   "execution_count": 1,
   "metadata": {},
   "outputs": [],
   "source": [
    "# saving the data\n",
    "import pickle\n",
    "from joblib import dump, load\n",
    "\n",
    "# data visualization\n",
    "import matplotlib.pyplot as plt\n",
    "\n",
    "# preprocessing\n",
    "import pandas as pd\n",
    "import numpy as np\n",
    "import spacy\n",
    "from nltk.corpus import stopwords\n",
    "from sklearn.feature_extraction.text import CountVectorizer, TfidfVectorizer\n",
    "\n",
    "# modeling\n",
    "#import tensorflow as tf\n",
    "from sklearn.naive_bayes import MultinomialNB\n",
    "from sklearn.svm import LinearSVC, SVC\n",
    "from sklearn.linear_model import SGDClassifier\n",
    "from sklearn.ensemble import VotingClassifier\n",
    "from sklearn.model_selection import cross_val_score, GridSearchCV\n",
    "\n",
    "# fixing random seed\n",
    "np.random.seed(289)"
   ]
  },
  {
   "cell_type": "markdown",
   "metadata": {},
   "source": [
    "## 2. Loading raw data <a id=load>"
   ]
  },
  {
   "cell_type": "code",
   "execution_count": 9,
   "metadata": {},
   "outputs": [],
   "source": [
    "raw_news_train = pd.read_csv('data/fake_or_real_news_training.csv')\n",
    "raw_news_test = pd.read_csv('data/fake_or_real_news_test.csv')"
   ]
  },
  {
   "cell_type": "code",
   "execution_count": 10,
   "metadata": {},
   "outputs": [
    {
     "name": "stdout",
     "output_type": "stream",
     "text": [
      "<class 'pandas.core.frame.DataFrame'>\n",
      "RangeIndex: 2321 entries, 0 to 2320\n",
      "Data columns (total 3 columns):\n",
      " #   Column  Non-Null Count  Dtype \n",
      "---  ------  --------------  ----- \n",
      " 0   ID      2321 non-null   int64 \n",
      " 1   title   2321 non-null   object\n",
      " 2   text    2321 non-null   object\n",
      "dtypes: int64(1), object(2)\n",
      "memory usage: 54.5+ KB\n"
     ]
    }
   ],
   "source": [
    "raw_news_test.info()"
   ]
  },
  {
   "cell_type": "code",
   "execution_count": 11,
   "metadata": {},
   "outputs": [
    {
     "name": "stdout",
     "output_type": "stream",
     "text": [
      "<class 'pandas.core.frame.DataFrame'>\n",
      "RangeIndex: 3999 entries, 0 to 3998\n",
      "Data columns (total 6 columns):\n",
      " #   Column  Non-Null Count  Dtype \n",
      "---  ------  --------------  ----- \n",
      " 0   ID      3999 non-null   int64 \n",
      " 1   title   3999 non-null   object\n",
      " 2   text    3999 non-null   object\n",
      " 3   label   3999 non-null   object\n",
      " 4   X1      33 non-null     object\n",
      " 5   X2      2 non-null      object\n",
      "dtypes: int64(1), object(5)\n",
      "memory usage: 187.6+ KB\n"
     ]
    }
   ],
   "source": [
    "raw_news_train.info()"
   ]
  },
  {
   "cell_type": "markdown",
   "metadata": {},
   "source": [
    "> We have two columns `X1` and `X2` in `train` set that have some values. Let's check them"
   ]
  },
  {
   "cell_type": "code",
   "execution_count": 12,
   "metadata": {},
   "outputs": [],
   "source": [
    "X1 = raw_news_train.X1.notnull()\n",
    "X2 = raw_news_train.X2.notnull()"
   ]
  },
  {
   "cell_type": "code",
   "execution_count": 13,
   "metadata": {},
   "outputs": [
    {
     "data": {
      "text/html": [
       "<div>\n",
       "<style scoped>\n",
       "    .dataframe tbody tr th:only-of-type {\n",
       "        vertical-align: middle;\n",
       "    }\n",
       "\n",
       "    .dataframe tbody tr th {\n",
       "        vertical-align: top;\n",
       "    }\n",
       "\n",
       "    .dataframe thead th {\n",
       "        text-align: right;\n",
       "    }\n",
       "</style>\n",
       "<table border=\"1\" class=\"dataframe\">\n",
       "  <thead>\n",
       "    <tr style=\"text-align: right;\">\n",
       "      <th></th>\n",
       "      <th>ID</th>\n",
       "      <th>title</th>\n",
       "      <th>text</th>\n",
       "      <th>label</th>\n",
       "      <th>X1</th>\n",
       "      <th>X2</th>\n",
       "    </tr>\n",
       "  </thead>\n",
       "  <tbody>\n",
       "    <tr>\n",
       "      <th>2184</th>\n",
       "      <td>9</td>\n",
       "      <td>Planned Parenthood’s lobbying effort</td>\n",
       "      <td>pay raises for federal workers</td>\n",
       "      <td>and the future Fed rates</td>\n",
       "      <td>PLANNED PARENTHOOD’S LOBBYING GETS AGGRESSIVE....</td>\n",
       "      <td>REAL</td>\n",
       "    </tr>\n",
       "    <tr>\n",
       "      <th>3537</th>\n",
       "      <td>6268</td>\n",
       "      <td>Chart Of The Day: Since 2009—–Recovery For The 5%</td>\n",
       "      <td>Stagnation for the 95%</td>\n",
       "      <td>Chart Of The Day: Since 2009 Recovery For The 5%</td>\n",
       "      <td>Stagnation for the 95%</td>\n",
       "      <td>FAKE</td>\n",
       "    </tr>\n",
       "  </tbody>\n",
       "</table>\n",
       "</div>"
      ],
      "text/plain": [
       "        ID                                              title  \\\n",
       "2184     9               Planned Parenthood’s lobbying effort   \n",
       "3537  6268  Chart Of The Day: Since 2009—–Recovery For The 5%   \n",
       "\n",
       "                                 text  \\\n",
       "2184   pay raises for federal workers   \n",
       "3537           Stagnation for the 95%   \n",
       "\n",
       "                                                 label  \\\n",
       "2184                          and the future Fed rates   \n",
       "3537  Chart Of The Day: Since 2009 Recovery For The 5%   \n",
       "\n",
       "                                                     X1    X2  \n",
       "2184  PLANNED PARENTHOOD’S LOBBYING GETS AGGRESSIVE....  REAL  \n",
       "3537                           Stagnation for the 95%    FAKE  "
      ]
     },
     "execution_count": 13,
     "metadata": {},
     "output_type": "execute_result"
    }
   ],
   "source": [
    "raw_news_train[X2]"
   ]
  },
  {
   "cell_type": "code",
   "execution_count": 14,
   "metadata": {},
   "outputs": [
    {
     "data": {
      "text/html": [
       "<div>\n",
       "<style scoped>\n",
       "    .dataframe tbody tr th:only-of-type {\n",
       "        vertical-align: middle;\n",
       "    }\n",
       "\n",
       "    .dataframe tbody tr th {\n",
       "        vertical-align: top;\n",
       "    }\n",
       "\n",
       "    .dataframe thead th {\n",
       "        text-align: right;\n",
       "    }\n",
       "</style>\n",
       "<table border=\"1\" class=\"dataframe\">\n",
       "  <thead>\n",
       "    <tr style=\"text-align: right;\">\n",
       "      <th></th>\n",
       "      <th>ID</th>\n",
       "      <th>title</th>\n",
       "      <th>text</th>\n",
       "      <th>label</th>\n",
       "      <th>X1</th>\n",
       "      <th>X2</th>\n",
       "    </tr>\n",
       "  </thead>\n",
       "  <tbody>\n",
       "    <tr>\n",
       "      <th>192</th>\n",
       "      <td>599</td>\n",
       "      <td>Election Day: No Legal Pot In Ohio</td>\n",
       "      <td>Democrats Lose In The South</td>\n",
       "      <td>Election Day: No Legal Pot In Ohio; Democrats ...</td>\n",
       "      <td>REAL</td>\n",
       "      <td>NaN</td>\n",
       "    </tr>\n",
       "    <tr>\n",
       "      <th>308</th>\n",
       "      <td>10194</td>\n",
       "      <td>Who rode it best? Jesse Jackson mounts up to f...</td>\n",
       "      <td>Leonardo DiCaprio to the rescue?</td>\n",
       "      <td>Who rode it best? Jesse Jackson mounts up to f...</td>\n",
       "      <td>FAKE</td>\n",
       "      <td>NaN</td>\n",
       "    </tr>\n",
       "    <tr>\n",
       "      <th>382</th>\n",
       "      <td>356</td>\n",
       "      <td>Black Hawk crashes off Florida</td>\n",
       "      <td>human remains found</td>\n",
       "      <td>(CNN) Thick fog forced authorities to suspend ...</td>\n",
       "      <td>REAL</td>\n",
       "      <td>NaN</td>\n",
       "    </tr>\n",
       "    <tr>\n",
       "      <th>660</th>\n",
       "      <td>2786</td>\n",
       "      <td>Afghanistan: 19 die in air attacks on hospital</td>\n",
       "      <td>U.S. investigating</td>\n",
       "      <td>(CNN) Aerial bombardments blew apart a Doctors...</td>\n",
       "      <td>REAL</td>\n",
       "      <td>NaN</td>\n",
       "    </tr>\n",
       "    <tr>\n",
       "      <th>889</th>\n",
       "      <td>3622</td>\n",
       "      <td>Al Qaeda rep says group directed Paris magazin...</td>\n",
       "      <td>US issues travel warning</td>\n",
       "      <td>A member of Al Qaeda's branch in Yemen said Fr...</td>\n",
       "      <td>REAL</td>\n",
       "      <td>NaN</td>\n",
       "    </tr>\n",
       "  </tbody>\n",
       "</table>\n",
       "</div>"
      ],
      "text/plain": [
       "        ID                                              title  \\\n",
       "192    599                 Election Day: No Legal Pot In Ohio   \n",
       "308  10194  Who rode it best? Jesse Jackson mounts up to f...   \n",
       "382    356                     Black Hawk crashes off Florida   \n",
       "660   2786     Afghanistan: 19 die in air attacks on hospital   \n",
       "889   3622  Al Qaeda rep says group directed Paris magazin...   \n",
       "\n",
       "                                  text  \\\n",
       "192        Democrats Lose In The South   \n",
       "308   Leonardo DiCaprio to the rescue?   \n",
       "382                human remains found   \n",
       "660                 U.S. investigating   \n",
       "889           US issues travel warning   \n",
       "\n",
       "                                                 label    X1   X2  \n",
       "192  Election Day: No Legal Pot In Ohio; Democrats ...  REAL  NaN  \n",
       "308  Who rode it best? Jesse Jackson mounts up to f...  FAKE  NaN  \n",
       "382  (CNN) Thick fog forced authorities to suspend ...  REAL  NaN  \n",
       "660  (CNN) Aerial bombardments blew apart a Doctors...  REAL  NaN  \n",
       "889  A member of Al Qaeda's branch in Yemen said Fr...  REAL  NaN  "
      ]
     },
     "execution_count": 14,
     "metadata": {},
     "output_type": "execute_result"
    }
   ],
   "source": [
    "raw_news_train[X1].head()"
   ]
  },
  {
   "cell_type": "markdown",
   "metadata": {},
   "source": [
    "## 3. Cleaning the data <a id=clean>\n",
    "\n",
    "Before we proceed with feature engineering, we need to fix those rows, where `X1` and `X2` are not empty. Moreover, let's combine `title` and `text` columns into one column to process together and remove noise. \n",
    "\n",
    "> Noise removal function was taken from the following blog post: https://towardsdatascience.com/a-complete-exploratory-data-analysis-and-visualization-for-text-data-29fb1b96fb6a"
   ]
  },
  {
   "cell_type": "code",
   "execution_count": 7,
   "metadata": {},
   "outputs": [],
   "source": [
    "def retrieve_text_labels(data, dataset_type='train'):\n",
    "    \"\"\"Returns list of documents and numerical labels (0 for `FAKE`, 1 for `REAL`)\n",
    "    \n",
    "    'data' must contain columns `title`, `text`, `label`. \n",
    "    Additional columns `X1`, `X2` are expected to be in the `data`, if dataset_type=`train`\n",
    "    \n",
    "    If dataset_type=`train`, returns list of documents and list of numerical labels. \n",
    "    If dataset_type=`test`, returns list of documents without labels. \n",
    "    \n",
    "    If dataset_type=`train`, additional columns `X1`, `X2` are expected to be in the `data`.       \n",
    "    \"\"\"\n",
    "    \n",
    "    def remove_noise(text):\n",
    "        text = text.str.replace(\"(<br/>)\", \"\")\n",
    "        text = text.str.replace('(<a).*(>).*(</a>)', '')\n",
    "        text = text.str.replace('(&amp)', '')\n",
    "        text = text.str.replace('(&gt)', '')\n",
    "        text = text.str.replace('(&lt)', '')\n",
    "        text = text.str.replace('(\\xa0)', ' ')  \n",
    "        return text\n",
    "    \n",
    "    if dataset_type == 'train':\n",
    "        \n",
    "        data.loc[:, 'full_text'] = data.title + '. ' + data.text + ' ' + data.label + data.fillna('').X1 + data.fillna('').X2\n",
    "        data.loc[:, 'full_text'] = remove_noise(data.loc[:, 'full_text'])\n",
    "        \n",
    "        # since both 'REAL' and 'FAKE' contain 4 letters, I am taking the last 4 letters to be labels\n",
    "        train = data.full_text.apply(lambda row: row[:-4]).tolist()\n",
    "        labels = data.full_text.apply(lambda row: row[-4:]).replace({'FAKE':0, 'REAL':1}).tolist()\n",
    "        \n",
    "        return train, labels\n",
    "    \n",
    "    else:\n",
    "        \n",
    "        data.loc[:, 'full_text'] = data.title + '. ' + data.text\n",
    "        data.loc[:, 'full_text'] = remove_noise(data.loc[:, 'full_text'])\n",
    "        \n",
    "        train = data.full_text.to_list()\n",
    "        \n",
    "        return train"
   ]
  },
  {
   "cell_type": "code",
   "execution_count": 15,
   "metadata": {},
   "outputs": [],
   "source": [
    "news_train, labels = retrieve_text_labels(raw_news_train, 'train')\n",
    "labels = np.array(labels)"
   ]
  },
  {
   "cell_type": "markdown",
   "metadata": {},
   "source": [
    "## 4. Preprocessing <a id=preprocessing>\n",
    "\n",
    "For preprocessing, we are going to use spaCy package and their medium-size pre-trained statistical model for English, because it was trained on web-content (blogs, `news`, comments). Requires separate [installation](https://spacy.io/models/en#en_core_web_md)."
   ]
  },
  {
   "cell_type": "code",
   "execution_count": 2,
   "metadata": {},
   "outputs": [],
   "source": [
    "nlp = spacy.load(\"en_core_web_md\")"
   ]
  },
  {
   "cell_type": "markdown",
   "metadata": {},
   "source": [
    "### 4.1 Custom tokenizers using `spaCy` \n",
    "We have several hypotheses on how `FAKE` news might be different from `REAL` news:\n",
    "1. Talking about the same topic (i.e. politics), in `FAKE` news an author might use different words and n-grams (less formal)\n",
    "2. `FAKE` news might be mostly about politics and crime, hence completely different words and n-grams are used\n",
    "3. In `FAKE` news an author might use different POS tags, i.e. more adjectives and adverbs, like _incredibly_, _breaking_\n",
    "\n",
    "To test those hypotheses, we will build two custom tokenizers:\n",
    "* To get Lemmas of tokens, which are not corresponding to POS tags `SPACE`, `PUNCT`, `X`, `NUM`, `SYM`, `DET`, `PART` \n",
    "* To get only POS tags\n",
    "\n",
    "Since one of our hypotheses is that `FAKE` and `REAL` news use different words, it is important to remove stop-words to better see the difference. \n",
    "\n",
    "There are two ways to use custom tokenizers. First, we can create function `lemma_tokenizer` (within which we will use `spaCy` functionalities) and pass it into `tokenizer` keyword argument of sklearn's `CountVectorizer` / `TfidfVectorizer`. However, this is extremely slow process and it is not optimal. The recommended way would be to first tokenize the corpus using `.pipe` method and then apply `CountVectorizer` / `TfidfVectorizer`. \n",
    "\n",
    "> `.pipe` method accepts `n_process` keyword argument iff the version of spaCy is at least 2.2.2, otherwise `n_threads` keyword argument should be used"
   ]
  },
  {
   "cell_type": "code",
   "execution_count": 16,
   "metadata": {},
   "outputs": [],
   "source": [
    "def wrong_token(token):\n",
    "    \"\"\"Filters token based on POS-tag\"\"\"\n",
    "    \n",
    "    wrong_pos = token.pos_ in ['SPACE', 'PUNCT', 'X', 'NUM', 'SYM', 'DET', 'PART', 'INTJ']\n",
    "    personal_pronoun = (token.lemma_ == '-PRON-')\n",
    "    \n",
    "    return personal_pronoun or wrong_pos"
   ]
  },
  {
   "cell_type": "markdown",
   "metadata": {},
   "source": [
    "> Despite parallelization, still slow process. We saved prepared tokenized train set using *pickle*. See **below**."
   ]
  },
  {
   "cell_type": "code",
   "execution_count": 17,
   "metadata": {},
   "outputs": [],
   "source": [
    "def spacy_tokenizer(data, n_process=4, pos=True, stop_words=True):\n",
    "    \"\"\"Tokenizes the data using spaCy. If pos=True, returns POS-tags too\n",
    "    \n",
    "    Args:\n",
    "        data: List of documents\n",
    "        n_process: number of processes to run .pipe method of spaCy object\n",
    "        pos: if True, returns POS-tags too\n",
    "        stop_words: if True, remove stop words using NLTK Stopwords list\n",
    "        \n",
    "    Returns:\n",
    "        List: List of lemmatized tokens\n",
    "    \"\"\"\n",
    "    \n",
    "    if stop_words == True:\n",
    "        nltk_stopwords = stopwords.words('English')\n",
    "    \n",
    "    if spacy.__version__ < '2.2.2':\n",
    "        data_gen = nlp.pipe(data, n_threads=n_process)\n",
    "    else:\n",
    "        data_gen = nlp.pipe(data, n_process=n_process)\n",
    "        \n",
    "    data_lemma = []\n",
    "    \n",
    "    if pos == True:\n",
    "        data_pos = []\n",
    "        \n",
    "    for token_objects in data_gen:\n",
    "    \n",
    "        lemma_tokens = [token.lemma_.lower().strip() for token in token_objects if not wrong_token(token)]\n",
    "        \n",
    "        if stop_words == True:\n",
    "            lemma_tokens = [token for token in lemma_tokens if token not in nltk_stopwords]\n",
    "        \n",
    "        data_lemma.append(lemma_tokens)\n",
    "        \n",
    "        if pos == True:\n",
    "            pos_tokens = [token.pos_ for token in token_objects]\n",
    "            data_pos.append(pos_tokens)\n",
    "            \n",
    "    return data_lemma, data_pos"
   ]
  },
  {
   "cell_type": "code",
   "execution_count": null,
   "metadata": {},
   "outputs": [],
   "source": [
    "news_train_lemma, news_train_pos = spacy_tokenizer(news_train)"
   ]
  },
  {
   "cell_type": "markdown",
   "metadata": {},
   "source": [
    "> Let's save the tokenized train set using *pickle* library for later efficient use"
   ]
  },
  {
   "cell_type": "code",
   "execution_count": null,
   "metadata": {},
   "outputs": [],
   "source": [
    "with open(\"data/news_train_lemma.pickle\", \"wb\") as f:\n",
    "    pickle.dump(news_train_lemma, f)\n",
    "    \n",
    "with open(\"data/news_train_pos.pickle\", \"wb\") as f:\n",
    "    pickle.dump(news_train_pos, f)"
   ]
  },
  {
   "cell_type": "markdown",
   "metadata": {},
   "source": [
    "> Load the tokenized train set"
   ]
  },
  {
   "cell_type": "code",
   "execution_count": 3,
   "metadata": {},
   "outputs": [],
   "source": [
    "with open(\"data/news_train_lemma.pickle\", \"rb\") as f:\n",
    "    news_train_lemma = pickle.load(f)\n",
    "    \n",
    "with open(\"data/news_train_pos.pickle\", \"rb\") as f:\n",
    "    news_train_pos = pickle.load(f)"
   ]
  },
  {
   "cell_type": "markdown",
   "metadata": {},
   "source": [
    "### 4.2 Exploratory Data Analysis\n",
    "Here we will check several our hypotheses through EDA. Mainly, how `FAKE` and `REAL` news differ in terms of \n",
    "1. top unigrams and bigrams\n",
    "2. frequency of POS tags\n",
    "3. length of news and number of tokens"
   ]
  },
  {
   "cell_type": "code",
   "execution_count": 18,
   "metadata": {},
   "outputs": [],
   "source": [
    "def plot_fake_real_diff(tokenized_data, method='tfidf', ngram_range=(1,1), max_features=50, figsize=(20,3), remove_xticks=True):\n",
    "    \"\"\"Plots grouped bar plot, showing the difference in tokens used between REAL and FAKE news.\n",
    "    \n",
    "    Args:\n",
    "        tokenized_data: List of tokens\n",
    "        method: type of vectorizer to use, either\n",
    "    \n",
    "    \"\"\"\n",
    "    if method == 'tfidf':\n",
    "        vectorizer = TfidfVectorizer(ngram_range=ngram_range, \n",
    "                                     tokenizer=lambda doc: doc, \n",
    "                                     preprocessor=lambda doc:doc, \n",
    "                                     max_features=max_features)\n",
    "    elif method == 'count':\n",
    "        vectorizer = CountVectorizer(ngram_range=ngram_range, \n",
    "                                     tokenizer=lambda doc: doc, \n",
    "                                     preprocessor=lambda doc:doc, \n",
    "                                     max_features=max_features)\n",
    "    else:\n",
    "        print(\"Choose either 'tfidf' for TfidfVectorizer or 'count' for CountVectorizer.\")\n",
    "        return None\n",
    "        \n",
    "    document_matrix = vectorizer.fit_transform(tokenized_data)\n",
    "    document_matrix = pd.DataFrame(document_matrix.A, columns = vectorizer.get_feature_names())\n",
    "    \n",
    "    fake = document_matrix.assign(label=labels).groupby('label').sum().iloc[0] / sum(labels == 0)\n",
    "    real = document_matrix.assign(label=labels).groupby('label').sum().iloc[1] / sum(labels == 1)\n",
    "    index = document_matrix.assign(label=labels).groupby('label').sum().columns\n",
    "    \n",
    "    plt.style.use('seaborn-talk')\n",
    "    \n",
    "    pd.DataFrame({'FAKE': fake,'REAL': real}, index=index).plot.bar(rot=90, figsize=figsize)\n",
    "\n",
    "    if remove_xticks == True:\n",
    "        plt.xticks([])\n",
    "        \n",
    "    plt.show()"
   ]
  },
  {
   "cell_type": "markdown",
   "metadata": {},
   "source": [
    "#### 4.2.1 Unigrams\n",
    "\n",
    "By plotting average `TF-IDF` values for the top `50` words by each class (`FAKE`/`REAL`), we can see that there is slight difference between the words used, although the difference is not that clear for unigrams. "
   ]
  },
  {
   "cell_type": "code",
   "execution_count": 19,
   "metadata": {},
   "outputs": [
    {
     "data": {
      "image/png": "[encoded data removed]",
      "text/plain": [
       "<Figure size 1440x216 with 1 Axes>"
      ]
     },
     "metadata": {
      "needs_background": "light"
     },
     "output_type": "display_data"
    }
   ],
   "source": [
    "plot_fake_real_diff(news_train_lemma, method='tfidf', ngram_range=(1,1), max_features=50, remove_xticks=False, figsize=(20,3))"
   ]
  },
  {
   "cell_type": "markdown",
   "metadata": {},
   "source": [
    "#### 4.2.2 Bigrams\n",
    "\n",
    "Here the difference is quite clear. "
   ]
  },
  {
   "cell_type": "code",
   "execution_count": 20,
   "metadata": {},
   "outputs": [
    {
     "data": {
      "image/png": "[encoded data removed]",
      "text/plain": [
       "<Figure size 1440x216 with 1 Axes>"
      ]
     },
     "metadata": {
      "needs_background": "light"
     },
     "output_type": "display_data"
    }
   ],
   "source": [
    "plot_fake_real_diff(news_train_lemma, method='tfidf', ngram_range=(2,2), max_features=50, remove_xticks=False, figsize=(20,3))"
   ]
  },
  {
   "cell_type": "markdown",
   "metadata": {},
   "source": [
    "#### 4.2.3 POS-tagging frequency\n",
    "\n",
    "There is difference between `FAKE` and `REAL` news in terms of what POS-tags are used. Interesting enough, `FAKE` news seem to contain more `SYM` (symbols like $, %, §, ©, :), 😝), `X` (other like sfpksdpsxmsa), `INTJ` (interjection like psst, ouch, bravo, hello)"
   ]
  },
  {
   "cell_type": "code",
   "execution_count": 21,
   "metadata": {},
   "outputs": [
    {
     "data": {
      "image/png": "[encoded data removed]",
      "text/plain": [
       "<Figure size 1440x360 with 1 Axes>"
      ]
     },
     "metadata": {
      "needs_background": "light"
     },
     "output_type": "display_data"
    }
   ],
   "source": [
    "plot_fake_real_diff(news_train_pos, method='tfidf', ngram_range=(1,1), max_features=50, remove_xticks=False, figsize=(20,5))"
   ]
  },
  {
   "cell_type": "markdown",
   "metadata": {},
   "source": [
    "#### 4.2.4 Length of news and number of tokens\n",
    "\n",
    "Seems like `FAKE` news are shorter. "
   ]
  },
  {
   "cell_type": "code",
   "execution_count": 22,
   "metadata": {},
   "outputs": [
    {
     "data": {
      "text/html": [
       "<div>\n",
       "<style scoped>\n",
       "    .dataframe tbody tr th:only-of-type {\n",
       "        vertical-align: middle;\n",
       "    }\n",
       "\n",
       "    .dataframe tbody tr th {\n",
       "        vertical-align: top;\n",
       "    }\n",
       "\n",
       "    .dataframe thead tr th {\n",
       "        text-align: left;\n",
       "    }\n",
       "\n",
       "    .dataframe thead tr:last-of-type th {\n",
       "        text-align: right;\n",
       "    }\n",
       "</style>\n",
       "<table border=\"1\" class=\"dataframe\">\n",
       "  <thead>\n",
       "    <tr>\n",
       "      <th></th>\n",
       "      <th colspan=\"2\" halign=\"left\">Number of tokens</th>\n",
       "      <th colspan=\"2\" halign=\"left\">Number of words</th>\n",
       "      <th colspan=\"2\" halign=\"left\">Length of news</th>\n",
       "    </tr>\n",
       "    <tr>\n",
       "      <th></th>\n",
       "      <th>mean</th>\n",
       "      <th>median</th>\n",
       "      <th>mean</th>\n",
       "      <th>median</th>\n",
       "      <th>mean</th>\n",
       "      <th>median</th>\n",
       "    </tr>\n",
       "    <tr>\n",
       "      <th>label</th>\n",
       "      <th></th>\n",
       "      <th></th>\n",
       "      <th></th>\n",
       "      <th></th>\n",
       "      <th></th>\n",
       "      <th></th>\n",
       "    </tr>\n",
       "  </thead>\n",
       "  <tbody>\n",
       "    <tr>\n",
       "      <th>FAKE</th>\n",
       "      <td>377.378704</td>\n",
       "      <td>246</td>\n",
       "      <td>813.106981</td>\n",
       "      <td>519</td>\n",
       "      <td>4185.542943</td>\n",
       "      <td>2694.0</td>\n",
       "    </tr>\n",
       "    <tr>\n",
       "      <th>REAL</th>\n",
       "      <td>490.899900</td>\n",
       "      <td>432</td>\n",
       "      <td>1059.981076</td>\n",
       "      <td>937</td>\n",
       "      <td>5359.715139</td>\n",
       "      <td>4763.5</td>\n",
       "    </tr>\n",
       "  </tbody>\n",
       "</table>\n",
       "</div>"
      ],
      "text/plain": [
       "      Number of tokens        Number of words        Length of news        \n",
       "                  mean median            mean median           mean  median\n",
       "label                                                                      \n",
       "FAKE        377.378704    246      813.106981    519    4185.542943  2694.0\n",
       "REAL        490.899900    432     1059.981076    937    5359.715139  4763.5"
      ]
     },
     "execution_count": 22,
     "metadata": {},
     "output_type": "execute_result"
    }
   ],
   "source": [
    "number_of_tokens = [len(lemma_token) for lemma_token in news_train_lemma]\n",
    "number_of_words = [len(pos_token) for pos_token in news_train_pos]\n",
    "length_of_news = [len(news) for news in news_train]\n",
    "\n",
    "pd.DataFrame({'Number of tokens': number_of_tokens, \n",
    "              'Number of words': number_of_words, \n",
    "              'Length of news': length_of_news, \n",
    "              'label': labels}).replace({'label': {0: 'FAKE', 1:'REAL'}}).groupby('label').agg(['mean', 'median'])"
   ]
  },
  {
   "cell_type": "markdown",
   "metadata": {},
   "source": [
    "## 5. Modeling <a id=modeling>\n",
    "\n",
    "The approach for the modeling would be the following:\n",
    "1. Start with creating a classification model using only TF-IDF matrix based on unigrams. \n",
    "2. Create a model using bigrams. \n",
    "3. Combine unigrams and bigrams and see if the model improves.\n",
    "4. Build model based on POS-tagging based document-term matrix and combine POS-tagging doc matrix to see if the model improves.\n",
    "\n",
    "**Below there are custom functions for modelling to speed up experimentation.**"
   ]
  },
  {
   "cell_type": "code",
   "execution_count": null,
   "metadata": {},
   "outputs": [],
   "source": [
    "def run_experiment(X, y, algorithm, max_features_options=['None'], ngram_range=(1,1), input_type='raw'):\n",
    "    \"\"\"Returns the table with cross-validated accuracies for different max_features values and best hyperparameters\n",
    "    \n",
    "    Args:\n",
    "        X: List of documents\n",
    "        y: labels\n",
    "        algorithm: algorithm to run, 'NB' for Multinomial Naive Bayes, 'SGD' for SGDClassifier, 'KNN' for K-Nearest Neighbors\n",
    "        max_features_options: List of values of max_features, used in TfidfVectorizer\n",
    "        ngram_range: keyword argument of TfidfVectorizer\n",
    "        input_type: if 'raw', List of document is expected; if 'prepared' the document-term matrix is expected\n",
    "    \n",
    "    Returns:\n",
    "        DataFrame: scores_table, mean and std of the best accuracy scores\n",
    "        Dict: dictionary of the best hyperparameters, where keys are in the format (algorithm, max_features)\n",
    "    \"\"\"\n",
    "    \n",
    "    best_params_dict = {}\n",
    "    scores_table = {'algorithm':[], 'tfidf_max_features':[], 'best_score':[]}\n",
    "    \n",
    "    for max_features in max_features_options:\n",
    "        \n",
    "        best_score, best_params = train_clf(X=X, \n",
    "                                            y=y, \n",
    "                                            algorithm=algorithm, \n",
    "                                            max_features=max_features, \n",
    "                                            ngram_range=ngram_range, \n",
    "                                            input_type=input_type)\n",
    "    \n",
    "        best_params_dict[(algorithm, max_features)] = best_params\n",
    "    \n",
    "        scores_table['algorithm'].append(algorithm)\n",
    "        scores_table['tfidf_max_features'].append(max_features)\n",
    "        scores_table['best_score'].append(best_score)\n",
    "        \n",
    "    return pd.DataFrame(scores_table), best_params_dict\n",
    "\n",
    "\n",
    "def train_clf(X, y, algorithm, max_features=1000, ngram_range=(1,1), input_type='raw'):\n",
    "    \"\"\"Returns the best accuracy score (mean and std), the best hyperparameters and preprocessed data based on Grid Search\n",
    "    \n",
    "    Args:\n",
    "        X: List of documents\n",
    "        y: labels\n",
    "        algorithm: name of the algorithm, one of the following 'NB' (Naive Bayes), 'SGD' (SGDClassifier), 'SVM' (Linear SVM)\n",
    "        max_features: keyword argument of TfidfVectorizer\n",
    "        ngram_range: keyword argument of TfidfVectorizer\n",
    "        input_type: if 'raw', List of document is expected; if 'prepared' the document-term matrix is expected\n",
    "        \n",
    "    Returns:\n",
    "        Float: the mean value of the accuracy of the best model\n",
    "        Float: the std value of the accuracy of the best model\n",
    "        Dict: dictionary of the best hyperparameters\n",
    "    \"\"\"\n",
    "    \n",
    "    if input_type == 'raw':\n",
    "        X = preprocess_input(X=X, max_features=max_features, ngram_range=ngram_range, output_type='sparse')\n",
    "    \n",
    "    if algorithm == 'SGD':\n",
    "        clf = SGDClassifier(random_state=289, penalty='elasticnet')\n",
    "        param_grid = {\n",
    "            'l1_ratio': [0, 0.15, 0.3, 0.45, 0.6],\n",
    "            'loss': ['hinge', 'modified_huber']\n",
    "        }\n",
    "        \n",
    "    elif algorithm == 'SVM':\n",
    "        clf = LinearSVC(random_state=289)\n",
    "        param_grid = {\n",
    "            'C': [0.1, 0.3, 1, 3, 10, 30],\n",
    "            'loss': ['hinge', 'squared_hinge']\n",
    "        }\n",
    "        \n",
    "    elif algorithm == 'NB':\n",
    "        clf = MultinomialNB()\n",
    "        param_grid = {\n",
    "            'alpha': [0.1, 0.3, 0.5, 0.7, 1]\n",
    "        }\n",
    "\n",
    "    grid_search = GridSearchCV(clf, cv=10, param_grid=param_grid, n_jobs=-1, scoring='accuracy', verbose=10).fit(X, y)\n",
    "    \n",
    "    best_estimator = grid_search.best_estimator_\n",
    "    best_params = grid_search.best_params_\n",
    "    best_score = grid_search.best_score_\n",
    "    \n",
    "    return best_score, best_params\n",
    "\n",
    "\n",
    "def preprocess_input(X, max_features, ngram_range, output_type='sparse'):\n",
    "    \"\"\"Return TFIDF document-term matrix\n",
    "    \n",
    "    Args:\n",
    "        X: List of documents\n",
    "        max_features: keyword argument of TfidfVectorizer\n",
    "        ngram_range: keyword argument of TfidfVectorizer\n",
    "        output_type: 'sparse' returns sparse matrix, 'df' returns pandas DataFrame\n",
    "        \n",
    "    Returns:\n",
    "        sparse_matrix / DataFrame: preprocessed document-term matrix\n",
    "    \"\"\"\n",
    "    \n",
    "    tfidf = TfidfVectorizer(ngram_range=ngram_range, \n",
    "                            tokenizer=lambda doc: doc, \n",
    "                            preprocessor=lambda doc:doc, \n",
    "                            max_features=max_features)\n",
    "    \n",
    "    X = tfidf.fit_transform(X)\n",
    "\n",
    "    if output_type == 'df':\n",
    "        X = pd.DataFrame(X.A, columns=tfidf.get_feature_names())\n",
    "    \n",
    "    return X"
   ]
  },
  {
   "cell_type": "markdown",
   "metadata": {},
   "source": [
    "### 5.1 Unigrams only - top N features"
   ]
  },
  {
   "cell_type": "markdown",
   "metadata": {},
   "source": [
    "#### 5.1.1 Naive Bayes\n",
    "\n",
    "* **The best cross-validated score**: `0.907727`\n",
    "* **TfidfVectorizer's max_features**: `20 000`\n",
    "* **The best hyperparameters**: `alpha = 0.1`\n",
    "\n",
    "algorithm\t|tfidf_max_features\t|best_score\n",
    "------------|-------------------|---------------\n",
    "NB\t|5000\t|0.880720\n",
    "NB\t|10000\t|0.900475\n",
    "NB\t|20000\t|0.907727\n",
    "NB\t|30000\t|0.905476\n",
    "NB\t|40000\t|0.901975\n",
    "NB\t|None\t|0.897224"
   ]
  },
  {
   "cell_type": "code",
   "execution_count": null,
   "metadata": {},
   "outputs": [],
   "source": [
    "algorithm = 'NB'\n",
    "max_features_options = [5000, 10000, 20000, 30000, 40000, None]\n",
    "\n",
    "scores_table, best_params_dict = run_experiment(X=news_train_lemma, \n",
    "                                                y=labels, \n",
    "                                                algorithm=algorithm, \n",
    "                                                max_features_options=max_features_options, \n",
    "                                                ngram_range=(1,1), \n",
    "                                                input_type='raw')"
   ]
  },
  {
   "cell_type": "code",
   "execution_count": null,
   "metadata": {},
   "outputs": [],
   "source": [
    "# scores_table"
   ]
  },
  {
   "cell_type": "code",
   "execution_count": null,
   "metadata": {},
   "outputs": [],
   "source": [
    "# print(best_params_dict[('NB', 20000)])"
   ]
  },
  {
   "cell_type": "markdown",
   "metadata": {},
   "source": [
    "#### 5.1.2 Linear SVM\n",
    "\n",
    "* **The best cross-validated score**: `0.931233`\n",
    "* **TfidfVectorizer's max_features**: `20 000`\n",
    "* **The best hyperparameters**: `C = 1, loss = 'squared_hinge'`\n",
    "\n",
    "algorithm\t|tfidf_max_features\t|best_score\n",
    "------------|-------------------|---------------\n",
    "SVM\t|5000\t|0.923481\n",
    "SVM\t|10000\t|0.926482\n",
    "SVM\t|20000\t|0.931233\n",
    "SVM\t|30000\t|0.930233\n",
    "SVM\t|40000\t|0.930983\n",
    "SVM\t|None\t|0.930483"
   ]
  },
  {
   "cell_type": "code",
   "execution_count": null,
   "metadata": {},
   "outputs": [],
   "source": [
    "algorithm = 'SVM'\n",
    "max_features_options = [5000, 10000, 20000, 30000, 40000, None]\n",
    "\n",
    "scores_table, best_params_dict = run_experiment(X=news_train_lemma, \n",
    "                                                y=labels, \n",
    "                                                algorithm=algorithm, \n",
    "                                                max_features_options=max_features_options, \n",
    "                                                ngram_range=(1,1), \n",
    "                                                input_type='raw')"
   ]
  },
  {
   "cell_type": "code",
   "execution_count": null,
   "metadata": {},
   "outputs": [],
   "source": [
    "# scores_table"
   ]
  },
  {
   "cell_type": "code",
   "execution_count": null,
   "metadata": {},
   "outputs": [],
   "source": [
    "# best_params_dict[('SVM', 20000)]"
   ]
  },
  {
   "cell_type": "markdown",
   "metadata": {},
   "source": [
    "#### 5.1.3 SGDClassifier\n",
    "\n",
    "* **The best cross-validated score**: `0.927982`\n",
    "* **TfidfVectorizer's max_features**: `30 000`\n",
    "* **The best hyperparameters**: `l1_ratio = 0.15, loss = 'hinge'`\n",
    "\n",
    "algorithm\t|tfidf_max_features\t|best_score\n",
    "------------|-------------------|---------------\n",
    "SGD\t|5000\t|0.921480\n",
    "SGD\t|10000\t|0.924981\n",
    "SGD\t|20000\t|0.926732\n",
    "SGD\t|30000\t|0.927982\n",
    "SGD\t|40000\t|0.927732\n",
    "SGD\t|None\t|0.926732"
   ]
  },
  {
   "cell_type": "code",
   "execution_count": null,
   "metadata": {},
   "outputs": [],
   "source": [
    "algorithm = 'SGD'\n",
    "max_features_options = [5000, 10000, 20000, 30000, 40000, None]\n",
    "\n",
    "scores_table, best_params_dict = run_experiment(X=news_train_lemma, \n",
    "                                                y=labels, \n",
    "                                                algorithm=algorithm, \n",
    "                                                max_features_options=max_features_options, \n",
    "                                                ngram_range=(1,1), \n",
    "                                                input_type='raw')"
   ]
  },
  {
   "cell_type": "code",
   "execution_count": null,
   "metadata": {},
   "outputs": [],
   "source": [
    "# scores_table"
   ]
  },
  {
   "cell_type": "code",
   "execution_count": null,
   "metadata": {},
   "outputs": [],
   "source": [
    "# best_params_dict[('SGD', 30000)]"
   ]
  },
  {
   "cell_type": "markdown",
   "metadata": {},
   "source": [
    "### 5.2 Bigrams only - top N features"
   ]
  },
  {
   "cell_type": "markdown",
   "metadata": {},
   "source": [
    "#### 5.2.1 Naive Bayes\n",
    "\n",
    "* **The best cross-validated score**: `0.919480`\n",
    "* **TfidfVectorizer's max_features**: `40 000`\n",
    "* **The best hyperparameters**: `alpha = 0.3`\n",
    "\n",
    "\n",
    "algorithm\t|tfidf_max_features\t|best_score\n",
    "------------|-------------------|---------------\n",
    "NB\t|5000\t|0.884721\n",
    "NB\t|10000\t|0.898475\n",
    "NB\t|20000\t|0.910978\n",
    "NB\t|30000\t|0.916479\n",
    "NB\t|40000\t|0.919480\n",
    "NB\t|None\t|0.912728"
   ]
  },
  {
   "cell_type": "code",
   "execution_count": null,
   "metadata": {},
   "outputs": [],
   "source": [
    "algorithm = 'NB'\n",
    "max_features_options = [5000, 10000, 20000, 30000, 40000, None]\n",
    "\n",
    "scores_table, best_params_dict = run_experiment(X=news_train_lemma, \n",
    "                                                y=labels, \n",
    "                                                algorithm=algorithm, \n",
    "                                                max_features_options=max_features_options, \n",
    "                                                ngram_range=(2,2), \n",
    "                                                input_type='raw')"
   ]
  },
  {
   "cell_type": "code",
   "execution_count": null,
   "metadata": {},
   "outputs": [],
   "source": [
    "# scores_table"
   ]
  },
  {
   "cell_type": "code",
   "execution_count": null,
   "metadata": {},
   "outputs": [],
   "source": [
    "# best_params_dict[('NB', 40000)]"
   ]
  },
  {
   "cell_type": "markdown",
   "metadata": {},
   "source": [
    "#### 5.2.2 Linear SVM\n",
    "\n",
    "* **The best cross-validated score**: `0.922481`\n",
    "* **TfidfVectorizer's max_features**: `40 000`\n",
    "* **The best hyperparameters**: `C = 3, loss = 'squared_hinge'`\n",
    "\n",
    "algorithm\t|tfidf_max_features\t|best_score\n",
    "------------|-------------------|---------------\n",
    "SVM\t|5000\t|0.898475\n",
    "SVM\t|10000\t|0.912478\n",
    "SVM\t|20000\t|0.920480\n",
    "SVM\t|30000\t|0.921980\n",
    "SVM\t|40000\t|0.922481"
   ]
  },
  {
   "cell_type": "code",
   "execution_count": null,
   "metadata": {},
   "outputs": [],
   "source": [
    "algorithm = 'SVM'\n",
    "max_features_options = [5000, 10000, 20000, 30000, 40000]\n",
    "\n",
    "scores_table, best_params_dict = run_experiment(X=news_train_lemma, \n",
    "                                                y=labels, \n",
    "                                                algorithm=algorithm, \n",
    "                                                max_features_options=max_features_options, \n",
    "                                                ngram_range=(2,2), \n",
    "                                                input_type='raw')"
   ]
  },
  {
   "cell_type": "code",
   "execution_count": null,
   "metadata": {},
   "outputs": [],
   "source": [
    "# scores_table"
   ]
  },
  {
   "cell_type": "code",
   "execution_count": null,
   "metadata": {},
   "outputs": [],
   "source": [
    "# best_params_dict[('SVM', 40000)]"
   ]
  },
  {
   "cell_type": "markdown",
   "metadata": {},
   "source": [
    "#### 5.2.3 SGDClassifier\n",
    "\n",
    "* **The best cross-validated score**: `0.923481`\n",
    "* **TfidfVectorizer's max_features**: `40 000`\n",
    "* **The best hyperparameters**: `l1_ratio = 0, loss = 'hinge'`\n",
    "\n",
    "algorithm\t|tfidf_max_features\t|best_score\n",
    "------------|-------------------|---------------\n",
    "SGD\t|5000\t|0.892473\n",
    "SGD\t|10000\t|0.911728\n",
    "SGD\t|20000\t|0.915979\n",
    "SGD\t|30000\t|0.922731\n",
    "SGD\t|40000\t|0.923481\n",
    "SGD\t|None\t|0.904476"
   ]
  },
  {
   "cell_type": "code",
   "execution_count": null,
   "metadata": {},
   "outputs": [],
   "source": [
    "algorithm = 'SGD' \n",
    "max_features_options = [5000, 10000, 20000, 30000, 40000, None]\n",
    "\n",
    "scores_table, best_params_dict = run_experiment(X=news_train_lemma, \n",
    "                                                y=labels, \n",
    "                                                algorithm=algorithm, \n",
    "                                                max_features_options=max_features_options, \n",
    "                                                ngram_range=(2,2), \n",
    "                                                input_type='raw')"
   ]
  },
  {
   "cell_type": "code",
   "execution_count": null,
   "metadata": {},
   "outputs": [],
   "source": [
    "# scores_table"
   ]
  },
  {
   "cell_type": "code",
   "execution_count": null,
   "metadata": {},
   "outputs": [],
   "source": [
    "# best_params_dict[('SGD', 40000)]"
   ]
  },
  {
   "cell_type": "markdown",
   "metadata": {},
   "source": [
    "### 5.3 Unigrams + Bigrams"
   ]
  },
  {
   "cell_type": "markdown",
   "metadata": {},
   "source": [
    "#### 5.3.1 Naive Bayes\n",
    "\n",
    "* **The best cross-validated score**: `0.920730`\n",
    "* **TfidfVectorizer's max_features**: `60 000`\n",
    "* **The best hyperparameters**: `alpha = 0.1`\n",
    "\n",
    "\n",
    "algorithm\t|tfidf_max_features\t|best_score\n",
    "------------|-------------------|---------------\n",
    "NB\t|20000\t|0.914229\n",
    "NB\t|40000\t|0.919980\n",
    "NB\t|60000\t|0.920730\n",
    "NB\t|80000\t|0.920730"
   ]
  },
  {
   "cell_type": "code",
   "execution_count": null,
   "metadata": {},
   "outputs": [],
   "source": [
    "algorithm = 'NB'\n",
    "max_features_options = [20000, 40000, 60000, 80000]\n",
    "\n",
    "scores_table, best_params_dict = run_experiment(X=news_train_lemma, \n",
    "                                                y=labels, \n",
    "                                                algorithm=algorithm, \n",
    "                                                max_features_options=max_features_options, \n",
    "                                                ngram_range=(1,2), \n",
    "                                                input_type='raw')"
   ]
  },
  {
   "cell_type": "code",
   "execution_count": null,
   "metadata": {},
   "outputs": [],
   "source": [
    "# scores_table"
   ]
  },
  {
   "cell_type": "code",
   "execution_count": null,
   "metadata": {},
   "outputs": [],
   "source": [
    "# best_params_dict[('NB', 80000)]"
   ]
  },
  {
   "cell_type": "markdown",
   "metadata": {},
   "source": [
    "#### 5.3.2 Linear SVM\n",
    "\n",
    "* **The best cross-validated score**: `0.934234`\n",
    "* **TfidfVectorizer's max_features**: `80 000`\n",
    "* **The best hyperparameters**: `C = 10, loss = 'squared_hinge'`\n",
    "\n",
    "algorithm\t|tfidf_max_features\t|best_score\n",
    "------------|-------------------|---------------\n",
    "SVM\t|20000\t|0.929982\n",
    "SVM\t|40000\t|0.930733\n",
    "SVM\t|60000\t|0.932983\n",
    "SVM\t|80000\t|0.934234"
   ]
  },
  {
   "cell_type": "code",
   "execution_count": null,
   "metadata": {},
   "outputs": [],
   "source": [
    "algorithm = 'SVM'\n",
    "max_features_options = [20000, 40000, 60000, 80000]\n",
    "\n",
    "scores_table, best_params_dict = run_experiment(X=news_train_lemma, \n",
    "                                                y=labels, \n",
    "                                                algorithm=algorithm, \n",
    "                                                max_features_options=max_features_options, \n",
    "                                                ngram_range=(1,2), \n",
    "                                                input_type='raw')"
   ]
  },
  {
   "cell_type": "code",
   "execution_count": null,
   "metadata": {},
   "outputs": [],
   "source": [
    "# scores_table"
   ]
  },
  {
   "cell_type": "code",
   "execution_count": null,
   "metadata": {},
   "outputs": [],
   "source": [
    "# best_params_dict[('SVM', 80000)]"
   ]
  },
  {
   "cell_type": "markdown",
   "metadata": {},
   "source": [
    "#### 5.3.3 SGDClassifier\n",
    "\n",
    "* **The best cross-validated score**: `0.932483`\n",
    "* **TfidfVectorizer's max_features**: `80 000`\n",
    "* **The best hyperparameters**: `l1_ratio = 0, loss = 'hinge'`\n",
    "\n",
    "algorithm\t|tfidf_max_features\t|best_score\n",
    "------------|-------------------|---------------\n",
    "SGD\t|20000\t|0.928482\n",
    "SGD\t|40000\t|0.931233\n",
    "SGD\t|60000\t|0.931733\n",
    "SGD\t|80000\t|0.932483"
   ]
  },
  {
   "cell_type": "code",
   "execution_count": null,
   "metadata": {},
   "outputs": [],
   "source": [
    "algorithm = 'SGD'\n",
    "max_features_options = [20000, 40000, 60000, 80000]\n",
    "\n",
    "scores_table, best_params_dict = run_experiment(X=news_train_lemma, \n",
    "                                                y=labels, \n",
    "                                                algorithm=algorithm, \n",
    "                                                max_features_options=max_features_options, \n",
    "                                                ngram_range=(1,2), \n",
    "                                                input_type='raw')"
   ]
  },
  {
   "cell_type": "code",
   "execution_count": null,
   "metadata": {},
   "outputs": [],
   "source": [
    "# scores_table"
   ]
  },
  {
   "cell_type": "code",
   "execution_count": null,
   "metadata": {},
   "outputs": [],
   "source": [
    "# best_params_dict[('SGD', 80000)]"
   ]
  },
  {
   "cell_type": "markdown",
   "metadata": {},
   "source": [
    "### 5.4 Unigrams + Bigrams + POS-tags\n",
    "\n",
    "We saw that adding Bigrams features improves all models (**Naive Bayes, SVM, SGDClassifier, KNN**). Let's check if adding POS-tags improves the model too. Before we do that, let's first try to build classification model using just POS-tags and see the performance:\n",
    "\n",
    "* **Naive Bayes**: `accuracy = 0.880220,  max_features = 20 000`\n",
    "* **SVM**: `accuracy = 0.876969, max_features = 30 000`\n",
    "* **SGDClassifier**: `accuracy = 0.873218, max_features = 30 000`\n",
    "* **KNN**: `accuracy = 0.713178, max_features = 5 000`"
   ]
  },
  {
   "cell_type": "code",
   "execution_count": null,
   "metadata": {},
   "outputs": [],
   "source": [
    "algorithm = 'NB'\n",
    "max_features_options = [5000, 10000, 20000, 30000]\n",
    "\n",
    "scores_table, best_params_dict = run_experiment(X=news_train_pos, \n",
    "                                                y=labels, \n",
    "                                                algorithm=algorithm, \n",
    "                                                max_features_options=max_features_options, \n",
    "                                                ngram_range=(4,4), \n",
    "                                                input_type='raw')"
   ]
  },
  {
   "cell_type": "markdown",
   "metadata": {},
   "source": [
    "> Preprocessing document-term matrices in advance, keeping `max_features = 80000` for **Unigram-Bigram** document-term matrix and `max_features = 20000` for **POS-tag based** document-term matrix.  "
   ]
  },
  {
   "cell_type": "code",
   "execution_count": null,
   "metadata": {},
   "outputs": [],
   "source": [
    "X_pos = preprocess_input(X=news_train_pos, max_features=20000, ngram_range=(4,4), output_type='df')\n",
    "X_lemma = preprocess_input(X=news_train_lemma, max_features=80000, ngram_range=(1,2), output_type='df')\n",
    "\n",
    "X_prep = pd.concat([X_lemma, X_pos], axis=1)"
   ]
  },
  {
   "cell_type": "markdown",
   "metadata": {},
   "source": [
    "#### 5.4.1 Naive Bayes\n",
    "\n",
    "* **The best cross-validated score**: `0.937484`\n",
    "* **The best hyperparameters**: `alpha = 0.1`"
   ]
  },
  {
   "cell_type": "code",
   "execution_count": null,
   "metadata": {},
   "outputs": [],
   "source": [
    "best_score, best_params = train_clf(X=X_prep, y=labels, algorithm='NB', input_type='prepared')\n",
    "\n",
    "print(best_score)\n",
    "print(best_params)"
   ]
  },
  {
   "cell_type": "markdown",
   "metadata": {},
   "source": [
    "#### 5.4.2 Linear SVM\n",
    "\n",
    "* **The best cross-validated score**: `0.944236`\n",
    "* **The best hyperparameters**: `C = 1, loss = 'hinge'`"
   ]
  },
  {
   "cell_type": "code",
   "execution_count": null,
   "metadata": {},
   "outputs": [],
   "source": [
    "best_score, best_params = train_clf(X=X_prep, y=labels, algorithm='SVM', input_type='prepared')\n",
    "\n",
    "print(best_score)\n",
    "print(best_params)"
   ]
  },
  {
   "cell_type": "markdown",
   "metadata": {},
   "source": [
    "#### 5.4.3 SGDClassifier\n",
    "\n",
    "* **The best cross-validated score**: `0.942986`\n",
    "* **The best hyperparameters**: `l1_ratio = 0, loss = 'hinge'`"
   ]
  },
  {
   "cell_type": "code",
   "execution_count": null,
   "metadata": {},
   "outputs": [],
   "source": [
    "best_score, best_params = train_clf(X=X_prep, y=labels, algorithm='SGD', input_type='prepared')\n",
    "\n",
    "print(best_score)\n",
    "print(best_params)"
   ]
  },
  {
   "cell_type": "markdown",
   "metadata": {},
   "source": [
    "#### 5.4.4 VotingClassifier\n",
    "\n",
    "* **The best cross-validated score**: `0.944986`"
   ]
  },
  {
   "cell_type": "code",
   "execution_count": null,
   "metadata": {},
   "outputs": [],
   "source": [
    "clf = VotingClassifier(estimators=[('NB', MultinomialNB(alpha=0.1)), \n",
    "                                   ('SVM', LinearSVC(C=1, random_state=289, loss='hinge')), \n",
    "                                   ('SGD', SGDClassifier(random_state=289, loss='hinge'))], \n",
    "                       voting='hard', \n",
    "                       n_jobs=-1)\n",
    "\n",
    "scores = cross_val_score(clf, X_prep, labels, n_jobs=-1, verbose=1, cv=10)\n",
    "\n",
    "print(scores.mean())"
   ]
  },
  {
   "cell_type": "markdown",
   "metadata": {},
   "source": [
    "### 5.5 Final pipeline\n",
    "\n",
    "For the final pipeline, we decided to use the last **VotingClassifier**, which gave us the best cross-validated accuracy, using combined **Unigram-Bigram** document-term matrix (`max_features = 80,000`) and **POS-tags based** document-term matrix (`max_features = 20,000`). "
   ]
  },
  {
   "cell_type": "markdown",
   "metadata": {},
   "source": [
    "> First, we take the **list of documents** from the dataset"
   ]
  },
  {
   "cell_type": "code",
   "execution_count": null,
   "metadata": {},
   "outputs": [],
   "source": [
    "news_test = retrieve_text_labels(raw_news_test, 'test')"
   ]
  },
  {
   "cell_type": "markdown",
   "metadata": {},
   "source": [
    "> Second, we retrieve **lemmatized tokens** and **POS-tags** and saving them for future use. "
   ]
  },
  {
   "cell_type": "code",
   "execution_count": null,
   "metadata": {},
   "outputs": [],
   "source": [
    "news_test_lemma, news_test_pos = spacy_tokenizer(news_test)"
   ]
  },
  {
   "cell_type": "code",
   "execution_count": null,
   "metadata": {},
   "outputs": [],
   "source": [
    "with open(\"data/news_test_lemma.pickle\", \"wb\") as f:\n",
    "    pickle.dump(news_test_lemma, f)\n",
    "    \n",
    "with open(\"data/news_test_pos.pickle\", \"wb\") as f:\n",
    "    pickle.dump(news_test_pos, f)"
   ]
  },
  {
   "cell_type": "code",
   "execution_count": null,
   "metadata": {},
   "outputs": [],
   "source": [
    "with open(\"data/news_test_lemma.pickle\", \"rb\") as f:\n",
    "    news_test_lemma = pickle.load(f)\n",
    "    \n",
    "with open(\"data/news_test_pos.pickle\", \"rb\") as f:\n",
    "    news_test_pos = pickle.load(f)"
   ]
  },
  {
   "cell_type": "markdown",
   "metadata": {},
   "source": [
    "> Finally, we are building the model object, that will transform list of **lemmatized tokens** and **POS-tags** into one combined Tfidf document-term matrix and fit the **VotingClassifier**. "
   ]
  },
  {
   "cell_type": "code",
   "execution_count": null,
   "metadata": {},
   "outputs": [],
   "source": [
    "class FakeNewsDetection:\n",
    "    def __init__(self, max_features_lemma=80000, max_features_pos=20000):\n",
    "        self.tfidf_lemma = TfidfVectorizer(\n",
    "            ngram_range=(1, 2),\n",
    "            tokenizer=lambda doc: doc,\n",
    "            preprocessor=lambda doc: doc,\n",
    "            max_features=max_features_lemma,\n",
    "        )\n",
    "\n",
    "        self.tfidf_pos = TfidfVectorizer(\n",
    "            ngram_range=(4, 4),\n",
    "            tokenizer=lambda doc: doc,\n",
    "            preprocessor=lambda doc: doc,\n",
    "            max_features=max_features_pos,\n",
    "        )\n",
    "\n",
    "    def fit(self, X_lemma, X_pos, labels=None):\n",
    "        X_lemma = self.tfidf_lemma.fit_transform(X_lemma)\n",
    "        X_lemma = pd.DataFrame(X_lemma.A, columns=self.tfidf_lemma.get_feature_names())\n",
    "\n",
    "        X_pos = self.tfidf_pos.fit_transform(X_pos)\n",
    "        X_pos = pd.DataFrame(X_pos.A, columns=self.tfidf_pos.get_feature_names())\n",
    "\n",
    "        X_prep = pd.concat([X_lemma, X_pos], axis=1)\n",
    "\n",
    "        self.model = VotingClassifier(\n",
    "            estimators=[\n",
    "                (\"NB\", MultinomialNB(alpha=0.1)),\n",
    "                (\"SVM\", LinearSVC(C=1, random_state=289, loss=\"hinge\")),\n",
    "                (\"SGD\", SGDClassifier(random_state=289, loss=\"hinge\")),\n",
    "            ],\n",
    "            voting=\"hard\",\n",
    "            n_jobs=-1,\n",
    "        )\n",
    "\n",
    "        self.model.fit(X_prep, labels)\n",
    "\n",
    "    def predict(self, X_lemma, X_pos):\n",
    "        X_lemma = self.tfidf_lemma.transform(X_lemma)\n",
    "        X_lemma = pd.DataFrame(X_lemma.A, columns=self.tfidf_lemma.get_feature_names())\n",
    "\n",
    "        X_pos = self.tfidf_pos.transform(X_pos)\n",
    "        X_pos = pd.DataFrame(X_pos.A, columns=self.tfidf_pos.get_feature_names())\n",
    "\n",
    "        X_prep = pd.concat([X_lemma, X_pos], axis=1)\n",
    "\n",
    "        predictions = self.model.predict(X_prep)\n",
    "        predictions = pd.Series(predictions)\n",
    "        predictions = predictions.replace([0, 1], [\"FAKE\", \"REAL\"]).to_list()\n",
    "\n",
    "        return predictions\n",
    "\n",
    "    def predict_from_raw(self, news):\n",
    "        news_lemma, news_pos = spacy_tokenizer(news)\n",
    "\n",
    "        news_lemma = self.tfidf_lemma.transform(news_lemma)\n",
    "        news_lemma = pd.DataFrame(\n",
    "            news_lemma.A, columns=self.tfidf_lemma.get_feature_names()\n",
    "        )\n",
    "\n",
    "        news_pos = self.tfidf_pos.transform(news_pos)\n",
    "        news_pos = pd.DataFrame(news_pos.A, columns=self.tfidf_pos.get_feature_names())\n",
    "\n",
    "        news_prep = pd.concat([news_lemma, news_pos], axis=1)\n",
    "\n",
    "        predictions = self.model.predict(news_prep)\n",
    "        predictions = pd.Series(predictions)\n",
    "        predictions = predictions.replace([0, 1], [\"FAKE\", \"REAL\"]).to_list()\n",
    "\n",
    "        return predictions\n"
   ]
  },
  {
   "cell_type": "markdown",
   "metadata": {},
   "source": [
    "> Fit the model"
   ]
  },
  {
   "cell_type": "code",
   "execution_count": null,
   "metadata": {},
   "outputs": [],
   "source": [
    "shallow_model = FakeNewsDetection()\n",
    "shallow_model.fit(news_train_lemma, news_train_pos, labels)"
   ]
  },
  {
   "cell_type": "markdown",
   "metadata": {},
   "source": [
    "> Make batch predictions on test and create CSV file. The faster way would be to use saved `news_test_lemma` and `news_test_pos` that were preprocessed in the previous step. However, we can predict from raw input (List of news) using `predict_from_raw()` method."
   ]
  },
  {
   "cell_type": "code",
   "execution_count": null,
   "metadata": {},
   "outputs": [],
   "source": [
    "test_batch_predictions = shallow_model.predict(news_test_lemma, news_test_pos)"
   ]
  },
  {
   "cell_type": "code",
   "execution_count": null,
   "metadata": {},
   "outputs": [],
   "source": [
    "test_batch_predictions_from_raw = shallow_model.predict_from_raw(news_test)"
   ]
  },
  {
   "cell_type": "code",
   "execution_count": null,
   "metadata": {},
   "outputs": [],
   "source": [
    "predictions_df = pd.DataFrame({'ID': raw_news_test.ID, 'label': test_batch_predictions})\n",
    "predictions_df.to_csv('test_predictions.csv', index=False)"
   ]
  },
  {
   "cell_type": "code",
   "execution_count": null,
   "metadata": {},
   "outputs": [],
   "source": [
    "shallow_model.predict_from_raw([\"This is incredible news! Trump is leaving!\"])"
   ]
  },
  {
   "cell_type": "markdown",
   "metadata": {},
   "source": [
    "## 6. Experimentation: pre-trained `Word2Vec` + Neural Network <a id=word2vec>"
   ]
  },
  {
   "cell_type": "markdown",
   "metadata": {},
   "source": [
    "#### Function to create `embedding_matrix` using pre-trained `word2vec` from `spaCy`"
   ]
  },
  {
   "cell_type": "code",
   "execution_count": null,
   "metadata": {},
   "outputs": [],
   "source": [
    "def spacy_embedding_matrix(word_index):\n",
    "    vocab_size = len(word_index) + 1\n",
    "    embedding_matrix = np.zeros((vocab_size, 300))\n",
    "    \n",
    "    for word in word_index:\n",
    "        idx = word_index[word]\n",
    "        embedding_matrix[idx] = nlp(word).vector # requies `nlp = spacy.load(\"en_core_web_md\")`\n",
    "        \n",
    "    return embedding_matrix"
   ]
  },
  {
   "cell_type": "markdown",
   "metadata": {},
   "source": [
    "#### Simple preprocessing using Keras: label encoding"
   ]
  },
  {
   "cell_type": "code",
   "execution_count": null,
   "metadata": {},
   "outputs": [],
   "source": [
    "from keras.preprocessing.text import Tokenizer\n",
    "from keras.preprocessing.sequence import pad_sequences\n",
    "\n",
    "maxlen = 1000\n",
    "\n",
    "tokenizer = Tokenizer(num_words=40000)\n",
    "tokenizer.fit_on_texts(news_train)\n",
    "\n",
    "X_train = tokenizer.texts_to_sequences(news_train)\n",
    "X_test = tokenizer.texts_to_sequences(news_test)\n",
    "\n",
    "vocab_size = len(tokenizer.word_index) + 1\n",
    "\n",
    "X_train = pad_sequences(X_train, padding='post', maxlen=maxlen)\n",
    "X_test = pad_sequences(X_test, padding='post', maxlen=maxlen)"
   ]
  },
  {
   "cell_type": "markdown",
   "metadata": {},
   "source": [
    "#### Embedding matrix using `spaCy`"
   ]
  },
  {
   "cell_type": "code",
   "execution_count": null,
   "metadata": {},
   "outputs": [],
   "source": [
    "embedding_dim = 300\n",
    "embedding_matrix = spacy_embedding_matrix(tokenizer.word_index)"
   ]
  },
  {
   "cell_type": "code",
   "execution_count": null,
   "metadata": {},
   "outputs": [],
   "source": [
    "nonzero_elements = np.count_nonzero(np.count_nonzero(embedding_matrix, axis=1))\n",
    "coverage = nonzero_elements / vocab_size\n",
    "\n",
    "print(f'Size of the  vocabulary: {vocab_size}')\n",
    "print(f'Shape of the embedding matrix: {embedding_matrix.shape}')\n",
    "print(f'Coverage of the vocabulary by vectors: {coverage}')"
   ]
  },
  {
   "cell_type": "markdown",
   "metadata": {},
   "source": [
    "#### Modeling"
   ]
  },
  {
   "cell_type": "code",
   "execution_count": null,
   "metadata": {},
   "outputs": [],
   "source": [
    "from keras.models import Sequential \n",
    "from keras import layers\n",
    "\n",
    "model = Sequential()\n",
    "model.add(layers.Embedding(vocab_size, embedding_dim, \n",
    "                           weights=[embedding_matrix], \n",
    "                           input_length=maxlen, \n",
    "                           trainable=False))\n",
    "model.add(layers.Conv1D(128,5,activation='elu', kernel_initializer='he_normal'))\n",
    "model.add(layers.MaxPooling1D(5))\n",
    "model.add(layers.Conv1D(128,5,activation='elu', kernel_initializer='he_normal'))\n",
    "model.add(layers.MaxPooling1D(5))\n",
    "model.add(layers.Conv1D(128,5,activation='elu', kernel_initializer='he_normal'))\n",
    "model.add(layers.MaxPooling1D(35))\n",
    "model.add(layers.Flatten())\n",
    "model.add(layers.Dense(128, activation='elu'))\n",
    "model.add(layers.Dense(1, activation='sigmoid'))\n",
    "\n",
    "model.summary()"
   ]
  },
  {
   "cell_type": "code",
   "execution_count": null,
   "metadata": {},
   "outputs": [],
   "source": [
    "from keras import callbacks\n",
    "\n",
    "model.compile(optimizer='adam', \n",
    "              loss='binary_crossentropy',\n",
    "              metrics=['accuracy']) \n",
    "\n",
    "history = model.fit(X_train, labels, \n",
    "                    epochs=50, batch_size=32, \n",
    "                    validation_split=0.2, \n",
    "                    callbacks=[callbacks.EarlyStopping(patience=10)])"
   ]
  },
  {
   "cell_type": "code",
   "execution_count": null,
   "metadata": {},
   "outputs": [],
   "source": [
    "import matplotlib.pyplot as plt\n",
    "plt.style.use('seaborn-talk')\n",
    "\n",
    "def plot_history(history):\n",
    "    acc = history.history['accuracy']\n",
    "    val_acc = history.history['val_accuracy']\n",
    "    loss = history.history['loss']\n",
    "    val_loss = history.history['val_loss']\n",
    "    x = range(1, len(acc) + 1)\n",
    "\n",
    "    plt.figure(figsize=(12, 5))\n",
    "    plt.subplot(1, 2, 1)\n",
    "    plt.plot(x, acc, 'b', label='Training acc')\n",
    "    plt.plot(x, val_acc, 'r', label='Validation acc')\n",
    "    plt.title('Training and validation accuracy')\n",
    "    plt.legend()\n",
    "    plt.subplot(1, 2, 2)\n",
    "    plt.plot(x, loss, 'b', label='Training loss')\n",
    "    plt.plot(x, val_loss, 'r', label='Validation loss')\n",
    "    plt.title('Training and validation loss')\n",
    "    plt.legend()\n",
    "    \n",
    "plot_history(history)"
   ]
  }
 ],
 "metadata": {
  "kernelspec": {
   "display_name": "Python 3",
   "language": "python",
   "name": "python3"
  },
  "language_info": {
   "codemirror_mode": {
    "name": "ipython",
    "version": 3
   },
   "file_extension": ".py",
   "mimetype": "text/x-python",
   "name": "python",
   "nbconvert_exporter": "python",
   "pygments_lexer": "ipython3",
   "version": "3.7.7"
  }
 },
 "nbformat": 4,
 "nbformat_minor": 4
}
